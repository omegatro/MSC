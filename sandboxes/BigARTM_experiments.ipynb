{
 "cells": [
  {
   "cell_type": "markdown",
   "metadata": {},
   "source": [
    "# Experiments\n",
    "## Bioit set"
   ]
  },
  {
   "cell_type": "code",
   "execution_count": null,
   "metadata": {},
   "outputs": [],
   "source": [
    "%matplotlib inline\n",
    "import glob\n",
    "import os\n",
    "import matplotlib.pyplot as plt\n",
    "\n",
    "import artm"
   ]
  },
  {
   "cell_type": "code",
   "execution_count": null,
   "metadata": {},
   "outputs": [],
   "source": [
    "#Preparing input\n",
    "batch_vectorizer = artm.BatchVectorizer(data_path='../Data/bioit_set/bioit_set_1_vw.txt',\n",
    "                                        data_format='vowpal_wabbit',\n",
    "                                        target_folder='my_collection_batches')\n",
    "dictionary = batch_vectorizer.dictionary\n",
    "topic_names = ['topic_{}'.format(i) for i in range(15)]"
   ]
  },
  {
   "cell_type": "code",
   "execution_count": null,
   "metadata": {},
   "outputs": [],
   "source": [
    "#Model parameters\n",
    "#defining quality metrics\n",
    "scores = [\n",
    "    artm.PerplexityScore(name='PerplexityScore', dictionary=dictionary),\n",
    "    artm.SparsityPhiScore(name='SparsityPhiScore'),\n",
    "    artm.SparsityThetaScore(name='SparsityThetaScore'),\n",
    "    artm.TopicKernelScore(name='TopicKernelScore', probability_mass_threshold=0.3),\n",
    "    artm.TopTokensScore(name='TopTokensScore', num_tokens=6)\n",
    "         ]\n",
    "\n",
    "#defining regularizers\n",
    "regularizers = [\n",
    "    artm.SmoothSparseThetaRegularizer(name='SparseTheta', tau=-0.15),\n",
    "    artm.SmoothSparsePhiRegularizer(name='SparsePhi', tau=-0.1),\n",
    "    artm.DecorrelatorPhiRegularizer(name='DecorrelatorPhi', tau=1.5e+5),\n",
    "]\n",
    "\n",
    "#creating the model\n",
    "model_artm = artm.ARTM(topic_names=topic_names, \n",
    "                       cache_theta=True,\n",
    "                       scores=scores,\n",
    "                       regularizers=regularizers)\n",
    "\n",
    "#hyperparameters\n",
    "num_collection_passes = 25\n",
    "#varying regularization coefficients\n",
    "model_artm.regularizers['SparsePhi'].tau = -0.000002\n",
    "model_artm.regularizers['SparseTheta'].tau = -0.2\n",
    "model_artm.regularizers['DecorrelatorPhi'].tau = 2.5e+5"
   ]
  },
  {
   "cell_type": "code",
   "execution_count": null,
   "metadata": {},
   "outputs": [],
   "source": [
    "#Fitting the model\n",
    "model_artm.initialize(dictionary = dictionary)\n",
    "model_artm.fit_offline(batch_vectorizer=batch_vectorizer, num_collection_passes=num_collection_passes)"
   ]
  },
  {
   "cell_type": "code",
   "execution_count": null,
   "metadata": {},
   "outputs": [],
   "source": []
  }
 ],
 "metadata": {
  "kernelspec": {
   "display_name": "msc_project(linux)",
   "language": "python",
   "name": "msc_project"
  },
  "language_info": {
   "codemirror_mode": {
    "name": "ipython",
    "version": 3
   },
   "file_extension": ".py",
   "mimetype": "text/x-python",
   "name": "python",
   "nbconvert_exporter": "python",
   "pygments_lexer": "ipython3",
   "version": "3.9.12"
  }
 },
 "nbformat": 4,
 "nbformat_minor": 2
}
