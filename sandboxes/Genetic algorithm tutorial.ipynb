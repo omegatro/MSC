{
 "cells": [
  {
   "cell_type": "markdown",
   "metadata": {},
   "source": [
    "- Based on https://pygad.readthedocs.io/en/latest/"
   ]
  },
  {
   "cell_type": "code",
   "execution_count": 81,
   "metadata": {},
   "outputs": [],
   "source": [
    "import pygad\n",
    "import numpy as np"
   ]
  },
  {
   "cell_type": "markdown",
   "metadata": {},
   "source": [
    "y = f(w1:w6) = w1x1 + w2x2 + w3x3 + w4x4 + w5x5 + w6x6\n",
    "where (x1,x2,x3,x4,x5,x6)=(4,-2,3.5,5,-11,-4.7) and y=44"
   ]
  },
  {
   "cell_type": "code",
   "execution_count": 82,
   "metadata": {},
   "outputs": [],
   "source": [
    "function_inputs = [4,-2,3.5,5,-11,-4.7]\n",
    "desired_output = 44"
   ]
  },
  {
   "cell_type": "code",
   "execution_count": 83,
   "metadata": {},
   "outputs": [],
   "source": [
    "def fitness_func(ga_instance, solution, solution_idx):\n",
    "    output = np.sum(solution*function_inputs)\n",
    "    fitness = 1.0 / np.abs(output - desired_output)\n",
    "    return fitness"
   ]
  },
  {
   "cell_type": "code",
   "execution_count": 84,
   "metadata": {},
   "outputs": [],
   "source": [
    "def blend_crossover_pygad(parents, offspring_size, ga_instance):\n",
    "    \"\"\"\n",
    "    A blend crossover function compatible with PyGAD.\n",
    "    \n",
    "    Parameters:\n",
    "    - parents: The selected parents for crossover.\n",
    "    - offspring_size: The size of the offspring to be produced.\n",
    "    - ga_instance: The instance from the pygad.GA class.\n",
    "    \"\"\"\n",
    "    alpha=0.5\n",
    "#     - alpha: The alpha parameter controlling the diversity of offspring (not passed directly, defined inside).\n",
    "    # Initialize an empty offspring array\n",
    "    offspring = np.empty(offspring_size)\n",
    "    \n",
    "    # The number of parents to be selected for crossover\n",
    "    num_parents = parents.shape[0]\n",
    "    \n",
    "    for k in range(offspring_size[0]):\n",
    "        # Randomly selecting two parents\n",
    "        parent1_idx, parent2_idx = np.random.choice(num_parents, 2, replace=False)\n",
    "        parent1, parent2 = parents[parent1_idx], parents[parent2_idx]\n",
    "        \n",
    "        # Calculate the range I between parent genes\n",
    "        I = np.abs(parent2 - parent1)\n",
    "        \n",
    "        # Calculate lower and upper bounds for each gene\n",
    "        lower_bound = np.minimum(parent1, parent2) - I * alpha\n",
    "        upper_bound = np.maximum(parent1, parent2) + I * alpha\n",
    "        \n",
    "        # Generate offspring by choosing a random value within the bounds for each gene\n",
    "        offspring[k, :] = np.random.uniform(lower_bound, upper_bound)\n",
    "    \n",
    "    return offspring"
   ]
  },
  {
   "cell_type": "code",
   "execution_count": 85,
   "metadata": {},
   "outputs": [],
   "source": [
    "a = 0.8\n",
    "b = 0.9\n",
    "\n",
    "def self_mutation(offspring, ga_instance):\n",
    "    \"\"\"\n",
    "    Apply self-mutation to offspring with mutation parameters as part of the solution vector.\n",
    "    \n",
    "    Parameters:\n",
    "    - offspring: The offspring to be mutated (2D NumPy array where each row is an individual).\n",
    "    - ga_instance: The instance from the pygad.GA class.\n",
    "    \"\"\"\n",
    "    # Assuming 'a' and 'b' are stored in the GA instance for easy access\n",
    "\n",
    "    \n",
    "    # Iterate through each individual in the offspring\n",
    "    for individual in offspring:\n",
    "        # Extract mutation probabilities from the individual\n",
    "        mutation_probability = individual[-2]\n",
    "        component_mutation_probability = individual[-1]\n",
    "        \n",
    "        # Decide if this individual will mutate\n",
    "        if np.random.rand() < mutation_probability:\n",
    "            # Apply component-wise mutation\n",
    "            for i in range(len(individual) - 2):  # Exclude mutation probabilities\n",
    "                if np.random.rand() < component_mutation_probability:\n",
    "                    # Mutate this component\n",
    "                    individual[i] = np.random.uniform(a, b)\n",
    "                    \n",
    "            # Optionally, mutate the mutation probabilities themselves\n",
    "            # Ensure they remain within reasonable bounds [0.01, 0.99]\n",
    "#             if np.random.rand() < component_mutation_probability:\n",
    "#                 individual[-2] = np.clip(np.random.uniform(0, 1), 0.01, 0.99)\n",
    "#             if np.random.rand() < component_mutation_probability:\n",
    "#                 individual[-1] = np.clip(np.random.uniform(0, 1), 0.01, 0.99)\n",
    "                \n",
    "    return offspring"
   ]
  },
  {
   "cell_type": "code",
   "execution_count": 86,
   "metadata": {},
   "outputs": [],
   "source": [
    "last_gen_population = None\n",
    "last_gen_fitness = None\n",
    "\n",
    "def merge_top_individuals(ga_instance):\n",
    "    global last_gen_population, last_gen_fitness\n",
    "\n",
    "    # Get the current population and their fitness scores\n",
    "    current_population = ga_instance.population\n",
    "    current_fitness = ga_instance.last_generation_fitness\n",
    "\n",
    "    # Calculate the number of individuals to keep from each generation (40%)\n",
    "    num_to_keep = int(0.4 * len(current_fitness))\n",
    "\n",
    "    if last_gen_population is not None and last_gen_fitness is not None:\n",
    "        # Sort the last generation by fitness and select the top 40%\n",
    "        sorted_indices_last = np.argsort(last_gen_fitness)[-num_to_keep:]\n",
    "        top_last_gen = last_gen_population[sorted_indices_last]\n",
    "\n",
    "        # Sort the current generation by fitness and select the top 40%\n",
    "        sorted_indices_current = np.argsort(current_fitness)[-num_to_keep:]\n",
    "        top_current_gen = current_population[sorted_indices_current]\n",
    "\n",
    "        # Merge the top individuals from both generations\n",
    "        merged_population = np.vstack((top_last_gen, top_current_gen))\n",
    "\n",
    "        # If the merged population is smaller than the original population size, fill the gap\n",
    "        if len(merged_population) < len(current_population):\n",
    "            additional_indices = np.random.choice(range(len(current_population)), size=(len(current_population) - len(merged_population)), replace=False)\n",
    "            additional_individuals = current_population[additional_indices]\n",
    "            merged_population = np.vstack((merged_population, additional_individuals))\n",
    "\n",
    "        # Update the GA instance's population with the merged population\n",
    "        ga_instance.population = merged_population\n",
    "\n",
    "    # Update the last_gen_population and last_gen_fitness for the next call\n",
    "    last_gen_population = current_population.copy()\n",
    "    last_gen_fitness = current_fitness.copy()\n",
    "\n",
    "def on_generation(ga_instance):\n",
    "    merge_top_individuals(ga_instance)"
   ]
  },
  {
   "cell_type": "code",
   "execution_count": 87,
   "metadata": {},
   "outputs": [],
   "source": [
    "fitness_function = fitness_func\n",
    "\n",
    "num_generations = 50\n",
    "num_parents_mating = 4\n",
    "\n",
    "sol_per_pop = 8\n",
    "num_genes = len(function_inputs)\n",
    "\n",
    "init_range_low = -2\n",
    "init_range_high = 5\n",
    "\n",
    "keep_parents = int(0.4*num_parents_mating)\n",
    "\n",
    "parent_selection_type = \"sss\"\n",
    "crossover_type = \"blend\"\n",
    "\n",
    "mutation_type = \"random\"\n",
    "mutation_percent_genes = 10"
   ]
  },
  {
   "cell_type": "code",
   "execution_count": 89,
   "metadata": {},
   "outputs": [],
   "source": [
    "ga_instance = pygad.GA(num_generations=num_generations,\n",
    "                       on_generation = on_generation,\n",
    "                       num_parents_mating=num_parents_mating,\n",
    "                       fitness_func=fitness_function,\n",
    "                       sol_per_pop=sol_per_pop,\n",
    "                       num_genes=num_genes,\n",
    "                       init_range_low=init_range_low,\n",
    "                       init_range_high=init_range_high,\n",
    "                       keep_parents=keep_parents,\n",
    "                       crossover_type=blend_crossover_pygad,\n",
    "                       mutation_type=self_mutation,\n",
    "                       parent_selection_type=parent_selection_type,\n",
    "                       mutation_percent_genes=mutation_percent_genes)  # Example bounds)"
   ]
  },
  {
   "cell_type": "code",
   "execution_count": 90,
   "metadata": {},
   "outputs": [],
   "source": [
    "ga_instance.run()"
   ]
  },
  {
   "cell_type": "code",
   "execution_count": 91,
   "metadata": {},
   "outputs": [
    {
     "name": "stdout",
     "output_type": "stream",
     "text": [
      "Parameters of the best solution : [2.6164597  0.27931273 4.06085659 4.27257542 0.0116207  0.28835822]\n",
      "Fitness value of the best solution = 113739.54158137238\n",
      "Predicted output based on the best solution : 43.99997715261197\n"
     ]
    }
   ],
   "source": [
    "solution, solution_fitness, solution_idx = ga_instance.best_solution()\n",
    "print(\"Parameters of the best solution : {solution}\".format(solution=solution))\n",
    "print(\"Fitness value of the best solution = {solution_fitness}\".format(solution_fitness=solution_fitness))\n",
    "\n",
    "prediction = np.sum(np.array(function_inputs)*solution)\n",
    "print(\"Predicted output based on the best solution : {prediction}\".format(prediction=prediction))"
   ]
  },
  {
   "cell_type": "code",
   "execution_count": null,
   "metadata": {},
   "outputs": [],
   "source": []
  }
 ],
 "metadata": {
  "kernelspec": {
   "display_name": "msc_project(linux)",
   "language": "python",
   "name": "msc_project"
  },
  "language_info": {
   "codemirror_mode": {
    "name": "ipython",
    "version": 3
   },
   "file_extension": ".py",
   "mimetype": "text/x-python",
   "name": "python",
   "nbconvert_exporter": "python",
   "pygments_lexer": "ipython3",
   "version": "3.9.12"
  }
 },
 "nbformat": 4,
 "nbformat_minor": 2
}
